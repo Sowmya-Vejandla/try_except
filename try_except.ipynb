{
 "cells": [
  {
   "cell_type": "raw",
   "id": "6c0ab82c",
   "metadata": {},
   "source": [
    "1. The try and except blocks in Python are used for exception handling, a mechanism to handle runtime errors and exceptions that may occur during the execution of a program. "
   ]
  },
  {
   "cell_type": "raw",
   "id": "353d247e",
   "metadata": {},
   "source": [
    "2. Syntax for a basic try-except block\n",
    "\n",
    "try:\n",
    "    # Code that might raise an exception\n",
    "except ExceptionType:\n",
    "    # Exception handling code\n"
   ]
  },
  {
   "cell_type": "raw",
   "id": "58261ae4",
   "metadata": {},
   "source": [
    "3. If an exception occurs inside a try block and there is no matching except block to handle that specific exception type, the exception propagates up the call stack. This can lead to the program terminating, and an error message, including the details of the unhandled exception, will be displayed."
   ]
  },
  {
   "cell_type": "raw",
   "id": "9c22f1eb",
   "metadata": {},
   "source": [
    "4.\n",
    "Bare except Block:\n",
    "\n",
    "A bare except block catches any exception, regardless of its type.\n",
    "While it can be convenient to catch any unexpected exception, it may make it harder to identify and diagnose specific issues in the code.\n",
    "It's generally considered a best practice to avoid using a bare except block unless absolutely necessary, as it can mask errors and make debugging more challenging.\n",
    "\n",
    "Specific Exception Type:\n",
    "\n",
    "A except block with a specified exception type catches only exceptions of that specific type.\n",
    "This allows for more targeted exception handling, providing better control over how different types of exceptions are handled.\n",
    "Using specific exception types is recommended as it makes the code more robust and easier to understand. It also avoids catching unexpected exceptions that may indicate more serious issues."
   ]
  },
  {
   "cell_type": "code",
   "execution_count": 2,
   "id": "776942a4",
   "metadata": {},
   "outputs": [
    {
     "name": "stdout",
     "output_type": "stream",
     "text": [
      "Enter numerator: 10\n",
      "Enter denominator: 5\n",
      "Result: 2.0\n"
     ]
    }
   ],
   "source": [
    "#5. Yes, you can have nested try-except blocks in python.\n",
    "\n",
    "try:\n",
    "    n=int(input(\"Enter numerator: \"))\n",
    "    d=int(input(\"Enter denominator: \"))\n",
    "    try:\n",
    "        result = n/d\n",
    "        print(\"Result:\", result)\n",
    "    except ZeroDivisionError:\n",
    "        print(\"No Zero in denominator\")\n",
    "except ValueError:\n",
    "    print(\"Values should be only integers\")\n",
    "except ZeroDivisionError:\n",
    "    print(\"No zero in denominator\")\n",
    "\n"
   ]
  },
  {
   "cell_type": "code",
   "execution_count": 3,
   "id": "37dd1a5d",
   "metadata": {},
   "outputs": [
    {
     "name": "stdout",
     "output_type": "stream",
     "text": [
      "1: 10\n",
      "2: 0\n",
      "please do not enter zero in dr\n",
      "1: 10\n",
      "2: fsdfdsg\n",
      "please enter int only\n",
      "1: 0\n",
      "2: 0\n",
      "please do not enter zero in dr\n",
      "1: 10\n",
      "2: 2\n",
      "5.0\n"
     ]
    }
   ],
   "source": [
    "#6. Yes, we can use multiple except blocks\n",
    "\n",
    "while True:\n",
    "    try:\n",
    "        a=int(input(\"1: \"))\n",
    "        b=int(input(\"2: \"))\n",
    "        c=a/b\n",
    "        print(c)\n",
    "        break\n",
    "    except ValueError:\n",
    "        print('please enter int only')\n",
    "    except ZeroDivisionError:\n",
    "        print(\"please do not enter zero in dr\")\n",
    "    except Exception as e:\n",
    "        print(e)\n",
    "        \n",
    "\n"
   ]
  },
  {
   "cell_type": "raw",
   "id": "1a32504a",
   "metadata": {},
   "source": [
    "7.\n",
    "\n",
    "a. EOFError: Raised when an input operation (e.g., reading from the console using input()) reaches the end of the file or input stream unexpectedly.\n",
    "\n",
    "b. FloatingPointError: Raised when a floating-point operation (e.g., division by zero) results in an undefined or infinite value.\n",
    "\n",
    "c. IndexError: Raised when an attempt is made to access an index that is outside the bounds of a list, tuple, or string.\n",
    "\n",
    "d. MemoryError: Raised when an operation runs out of memory, typically due to excessive memory allocation.\n",
    "\n",
    "e. OverflowError: Raised when an arithmetic operation exceeds the maximum representable value for a numeric type.\n",
    "\n",
    "f. TabError: Raised when there is an issue with indentation, often due to mixing tabs and spaces in an indented block of code.\n",
    "\n",
    "g. ValueError: Raised when a built-in operation or function receives an argument of the correct type but an inappropriate value. This can include cases like trying to convert a string to an integer when the string doesn't represent a valid integer."
   ]
  },
  {
   "cell_type": "code",
   "execution_count": 4,
   "id": "0011892a",
   "metadata": {},
   "outputs": [
    {
     "name": "stdout",
     "output_type": "stream",
     "text": [
      "1: 10\n",
      "2: 0\n",
      "please do not enter zero in dr\n",
      "1: 10\n",
      "2: dff\n",
      "please enter int only\n",
      "1: 10\n",
      "2: 5\n",
      "2.0\n"
     ]
    }
   ],
   "source": [
    "#8. (a). division of two numbers\n",
    "\n",
    "while True:\n",
    "    try:\n",
    "        a=int(input(\"1: \"))\n",
    "        b=int(input(\"2: \"))\n",
    "        c=a/b\n",
    "        print(c)\n",
    "        break\n",
    "    except ValueError:\n",
    "        print('please enter int only')\n",
    "    except ZeroDivisionError:\n",
    "        print(\"please do not enter zero in dr\")\n",
    "    except Exception as e:\n",
    "        print(e)\n",
    "        "
   ]
  },
  {
   "cell_type": "code",
   "execution_count": 10,
   "id": "b1f28456",
   "metadata": {},
   "outputs": [
    {
     "name": "stdout",
     "output_type": "stream",
     "text": [
      "Enter an integer: dfgrg\n",
      "Enter only integer\n",
      "Enter an integer: 1\n",
      "Converted integer: 1\n"
     ]
    }
   ],
   "source": [
    "#8. (b). string to integer\n",
    "while True:\n",
    "    try:\n",
    "        user_input = input(\"Enter an integer: \")\n",
    "        number = int(user_input)\n",
    "        print(\"Converted integer:\", number)\n",
    "        break\n",
    "    except ValueError:\n",
    "        print(\"Enter only integer\")\n",
    "    except Exception as e:\n",
    "        print(f\"Unexpected error: {e}\")\n"
   ]
  },
  {
   "cell_type": "code",
   "execution_count": 12,
   "id": "372d51c2",
   "metadata": {},
   "outputs": [
    {
     "name": "stdout",
     "output_type": "stream",
     "text": [
      "Enter an index: 1\n",
      "Value at index 1 : 2\n"
     ]
    }
   ],
   "source": [
    "#8. (c). access element in a list\n",
    "\n",
    "while True:\n",
    "    try:\n",
    "        my_list = [1, 2, 3, 4, 5]\n",
    "        index = int(input(\"Enter an index: \"))\n",
    "        value = my_list[index]\n",
    "        print(\"Value at index\", index, \":\", value)\n",
    "        break\n",
    "    except IndexError:\n",
    "        print(\"Enter valid index\")\n",
    "    except ValueError:\n",
    "        print(\"Enter valid integer index\")\n",
    "    except Exception as e:\n",
    "        print(f\"Unexpected error: {e}\")\n"
   ]
  },
  {
   "cell_type": "code",
   "execution_count": 13,
   "id": "4c13ecdb",
   "metadata": {},
   "outputs": [
    {
     "name": "stdout",
     "output_type": "stream",
     "text": [
      "Enter your age: fdsfdsgf\n",
      "Age should be integer: invalid literal for int() with base 10: 'fdsfdsgf'\n",
      "Enter your age: 25\n",
      "Your age is: 25\n"
     ]
    }
   ],
   "source": [
    "#8. (d). to handle specific exception\n",
    "\n",
    "while True:\n",
    "    try:\n",
    "        age = int(input(\"Enter your age: \"))\n",
    "        if age < 0:\n",
    "            raise ValueError(\"Age cannot be negative.\")\n",
    "        print(\"Your age is:\", age)\n",
    "        break\n",
    "    except ValueError as v:\n",
    "        print(f\"Age should be integer: {v}\")\n",
    "    except Exception as e:\n",
    "        print(f\"Unexpected error: {e}\")\n"
   ]
  },
  {
   "cell_type": "code",
   "execution_count": 14,
   "id": "5a467a29",
   "metadata": {},
   "outputs": [
    {
     "name": "stdout",
     "output_type": "stream",
     "text": [
      "enter the name: dffdgh\n",
      "enter the name: jeon wonwoo\n",
      "jeon wonwoo\n"
     ]
    }
   ],
   "source": [
    "#8. (e). handle any exception\n",
    "while True:\n",
    "    try:\n",
    "        name=input(\"enter the name: \")\n",
    "        if name=='jeon wonwoo':\n",
    "            print(name)\n",
    "            break\n",
    "    except Exception as e:\n",
    "        print(f\"An unexpected error occurred: {e}\")"
   ]
  }
 ],
 "metadata": {
  "kernelspec": {
   "display_name": "Python 3 (ipykernel)",
   "language": "python",
   "name": "python3"
  },
  "language_info": {
   "codemirror_mode": {
    "name": "ipython",
    "version": 3
   },
   "file_extension": ".py",
   "mimetype": "text/x-python",
   "name": "python",
   "nbconvert_exporter": "python",
   "pygments_lexer": "ipython3",
   "version": "3.11.3"
  }
 },
 "nbformat": 4,
 "nbformat_minor": 5
}
